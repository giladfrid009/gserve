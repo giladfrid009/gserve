{
 "cells": [
  {
   "cell_type": "code",
   "execution_count": null,
   "id": "03616a06",
   "metadata": {},
   "outputs": [],
   "source": [
    "# fix imports\n",
    "import os\n",
    "import sys\n",
    "\n",
    "module_path = os.path.abspath(os.path.join(\"..\"))\n",
    "if module_path not in sys.path:\n",
    "    sys.path.append(module_path)"
   ]
  },
  {
   "cell_type": "code",
   "execution_count": null,
   "id": "53e70d22",
   "metadata": {},
   "outputs": [],
   "source": [
    "path = \"../tests/prompts.txt\"\n",
    "with open(path, \"r\") as f:\n",
    "    texts = f.readlines()\n",
    "    print(f\"Loaded {len(texts)} prompts from {path}\")\n",
    "    \n",
    "\n",
    "texts = texts[:40] \n",
    "    \n",
    "messeges = [[{\"role\": \"user\", \"content\": tx}] for tx in texts]"
   ]
  },
  {
   "cell_type": "code",
   "execution_count": null,
   "id": "4e7ca13c",
   "metadata": {},
   "outputs": [],
   "source": [
    "from gserve.vllm_service import VLLMService\n",
    "from gserve.configs import LLMConfig, ServeConfig\n",
    "\n",
    "from tqdm.auto import tqdm\n",
    "from vllm import SamplingParams\n",
    "\n",
    "\n",
    "llm_config = LLMConfig(\n",
    "    model_name=\"meta-llama/Llama-3.2-1B-Instruct\",\n",
    "    dtype=\"bfloat16\",\n",
    ")\n",
    "\n",
    "serve_config = ServeConfig(\n",
    "    gpu_ids=[1],\n",
    "    host=\"127.0.0.1\",\n",
    "    port=None,\n",
    "    startup_timeout=10 * 60,\n",
    "    client_timeout=60,\n",
    "    verbose=True,\n",
    ")\n",
    "\n",
    "sampling_params = SamplingParams(\n",
    "    temperature=0.0,\n",
    "    n=1,\n",
    "    max_tokens=100,\n",
    ")\n",
    "\n",
    "service = VLLMService(llm_config, serve_config)\n",
    "\n",
    "service.start()\n",
    "\n",
    "for i in tqdm(range(10)):\n",
    "    chat_answers = service.chat(messeges, sampling_params)\n",
    "    gen_answers = service.generate(texts, sampling_params)\n",
    "\n",
    "service.shutdown()"
   ]
  }
 ],
 "metadata": {
  "kernelspec": {
   "display_name": ".venv",
   "language": "python",
   "name": "python3"
  },
  "language_info": {
   "codemirror_mode": {
    "name": "ipython",
    "version": 3
   },
   "file_extension": ".py",
   "mimetype": "text/x-python",
   "name": "python",
   "nbconvert_exporter": "python",
   "pygments_lexer": "ipython3",
   "version": "3.12.10"
  }
 },
 "nbformat": 4,
 "nbformat_minor": 5
}
