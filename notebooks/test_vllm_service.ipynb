{
 "cells": [
  {
   "cell_type": "code",
   "execution_count": 1,
   "id": "03616a06",
   "metadata": {},
   "outputs": [],
   "source": [
    "# fix imports\n",
    "import os\n",
    "import sys\n",
    "\n",
    "module_path = os.path.abspath(os.path.join(\"..\"))\n",
    "if module_path not in sys.path:\n",
    "    sys.path.append(module_path)"
   ]
  },
  {
   "cell_type": "code",
   "execution_count": 2,
   "id": "53e70d22",
   "metadata": {},
   "outputs": [
    {
     "name": "stdout",
     "output_type": "stream",
     "text": [
      "Loaded 500 prompts from ../tests/prompts.txt\n"
     ]
    }
   ],
   "source": [
    "path = \"../tests/prompts.txt\"\n",
    "with open(path, \"r\") as f:\n",
    "    texts = f.readlines()\n",
    "    print(f\"Loaded {len(texts)} prompts from {path}\")\n",
    "    \n",
    "\n",
    "texts = texts[:40] \n",
    "    \n",
    "messeges = [[{\"role\": \"user\", \"content\": tx}] for tx in texts]"
   ]
  },
  {
   "cell_type": "code",
   "execution_count": 3,
   "id": "4e7ca13c",
   "metadata": {},
   "outputs": [
    {
     "name": "stdout",
     "output_type": "stream",
     "text": [
      "INFO 06-10 16:50:08 [__init__.py:243] Automatically detected platform cuda.\n"
     ]
    },
    {
     "name": "stderr",
     "output_type": "stream",
     "text": [
      "INFO 06-10 16:50:12 [vllm_service.py:153] Launching subprocess:\n",
      "    /home/fre.gilad/source/gserve/.venv/bin/python /home/fre.gilad/source/gserve/gserve/vllm_server.py --serve --model meta-llama/Llama-3.2-1B-Instruct --host 127.0.0.1 --port 47515 --gpus 1 --llm_kwargs {\"dtype\": \"bfloat16\", \"tokenizer_mode\": \"auto\", \"trust_remote_code\": false, \"seed\": 0, \"enforce_eager\": false}\n"
     ]
    },
    {
     "name": "stdout",
     "output_type": "stream",
     "text": [
      "INFO 06-10 16:50:19 [__init__.py:243] Automatically detected platform cuda.\n"
     ]
    },
    {
     "name": "stderr",
     "output_type": "stream",
     "text": [
      "INFO 06-10 16:50:22 [vllm_server.py:196] Initializing LLM 'meta-llama/Llama-3.2-1B-Instruct' on GPUs 1\n"
     ]
    },
    {
     "name": "stdout",
     "output_type": "stream",
     "text": [
      "INFO 06-10 16:50:22 [__init__.py:31] Available plugins for group vllm.general_plugins:\n",
      "INFO 06-10 16:50:22 [__init__.py:33] - lora_filesystem_resolver -> vllm.plugins.lora_resolvers.filesystem_resolver:register_filesystem_resolver\n",
      "INFO 06-10 16:50:22 [__init__.py:36] All plugins in this group will be loaded. Set `VLLM_PLUGINS` to control which plugins to load.\n",
      "INFO 06-10 16:50:36 [config.py:793] This model supports multiple tasks: {'classify', 'score', 'reward', 'generate', 'embed'}. Defaulting to 'generate'.\n",
      "INFO 06-10 16:50:37 [config.py:2118] Chunked prefill is enabled with max_num_batched_tokens=8192.\n",
      "INFO 06-10 16:50:40 [core.py:438] Waiting for init message from front-end.\n",
      "INFO 06-10 16:50:40 [core.py:65] Initializing a V1 LLM engine (v0.9.0.1) with config: model='meta-llama/Llama-3.2-1B-Instruct', speculative_config=None, tokenizer='meta-llama/Llama-3.2-1B-Instruct', skip_tokenizer_init=False, tokenizer_mode=auto, revision=None, override_neuron_config={}, tokenizer_revision=None, trust_remote_code=False, dtype=torch.bfloat16, max_seq_len=131072, download_dir=None, load_format=LoadFormat.AUTO, tensor_parallel_size=1, pipeline_parallel_size=1, disable_custom_all_reduce=False, quantization=None, enforce_eager=False, kv_cache_dtype=auto,  device_config=cuda, decoding_config=DecodingConfig(backend='auto', disable_fallback=False, disable_any_whitespace=False, disable_additional_properties=False, reasoning_backend=''), observability_config=ObservabilityConfig(show_hidden_metrics_for_version=None, otlp_traces_endpoint=None, collect_detailed_traces=None), seed=0, served_model_name=meta-llama/Llama-3.2-1B-Instruct, num_scheduler_steps=1, multi_step_stream_outputs=True, enable_prefix_caching=True, chunked_prefill_enabled=True, use_async_output_proc=True, pooler_config=None, compilation_config={\"level\": 3, \"custom_ops\": [\"none\"], \"splitting_ops\": [\"vllm.unified_attention\", \"vllm.unified_attention_with_output\"], \"compile_sizes\": [], \"inductor_compile_config\": {\"enable_auto_functionalized_v2\": false}, \"use_cudagraph\": true, \"cudagraph_num_of_warmups\": 1, \"cudagraph_capture_sizes\": [512, 504, 496, 488, 480, 472, 464, 456, 448, 440, 432, 424, 416, 408, 400, 392, 384, 376, 368, 360, 352, 344, 336, 328, 320, 312, 304, 296, 288, 280, 272, 264, 256, 248, 240, 232, 224, 216, 208, 200, 192, 184, 176, 168, 160, 152, 144, 136, 128, 120, 112, 104, 96, 88, 80, 72, 64, 56, 48, 40, 32, 24, 16, 8, 4, 2, 1], \"max_capture_size\": 512}\n",
      "WARNING 06-10 16:50:40 [utils.py:2671] Methods determine_num_available_blocks,device_config,get_cache_block_size_bytes,initialize_cache not implemented in <vllm.v1.worker.gpu_worker.Worker object at 0x7f43dba2b710>\n",
      "INFO 06-10 16:50:41 [parallel_state.py:1064] rank 0 in world size 1 is assigned as DP rank 0, PP rank 0, TP rank 0, EP rank 0\n",
      "WARNING 06-10 16:50:41 [topk_topp_sampler.py:58] FlashInfer is not available. Falling back to the PyTorch-native implementation of top-p & top-k sampling. For the best performance, please install FlashInfer.\n",
      "INFO 06-10 16:50:41 [gpu_model_runner.py:1531] Starting to load model meta-llama/Llama-3.2-1B-Instruct...\n",
      "INFO 06-10 16:50:41 [cuda.py:217] Using Flash Attention backend on V1 engine.\n",
      "INFO 06-10 16:50:42 [backends.py:35] Using InductorAdaptor\n",
      "INFO 06-10 16:50:42 [weight_utils.py:291] Using model weights format ['*.safetensors']\n",
      "INFO 06-10 16:50:42 [weight_utils.py:344] No model.safetensors.index.json found in remote.\n"
     ]
    },
    {
     "name": "stderr",
     "output_type": "stream",
     "text": [
      "Loading safetensors checkpoint shards:   0% Completed | 0/1 [00:00<?, ?it/s]\n",
      "Loading safetensors checkpoint shards: 100% Completed | 1/1 [00:00<00:00,  1.89it/s]\n",
      "Loading safetensors checkpoint shards: 100% Completed | 1/1 [00:00<00:00,  1.89it/s]\n",
      "\n"
     ]
    },
    {
     "name": "stdout",
     "output_type": "stream",
     "text": [
      "INFO 06-10 16:50:43 [default_loader.py:280] Loading weights took 0.62 seconds\n",
      "INFO 06-10 16:50:43 [gpu_model_runner.py:1549] Model loading took 2.3185 GiB and 1.813747 seconds\n",
      "INFO 06-10 16:50:49 [backends.py:459] Using cache directory: /home/fre.gilad/.cache/vllm/torch_compile_cache/f7687da10c/rank_0_0 for vLLM's torch.compile\n",
      "INFO 06-10 16:50:49 [backends.py:469] Dynamo bytecode transform time: 5.97 s\n",
      "INFO 06-10 16:50:53 [backends.py:132] Directly load the compiled graph(s) for shape None from the cache, took 3.254 s\n",
      "INFO 06-10 16:50:53 [monitor.py:33] torch.compile takes 5.97 s in total\n",
      "INFO 06-10 16:50:55 [kv_cache_utils.py:637] GPU KV cache size: 1,269,440 tokens\n",
      "INFO 06-10 16:50:55 [kv_cache_utils.py:640] Maximum concurrency for 131,072 tokens per request: 9.69x\n",
      "INFO 06-10 16:51:17 [gpu_model_runner.py:1933] Graph capturing finished in 22 secs, took 0.86 GiB\n",
      "INFO 06-10 16:51:17 [core.py:167] init engine (profile, create kv cache, warmup model) took 33.81 seconds\n"
     ]
    },
    {
     "name": "stderr",
     "output_type": "stream",
     "text": [
      "INFO 06-10 16:51:18 [vllm_server.py:203] LLM initialized, starting server at 127.0.0.1:47515\n",
      "INFO:     Started server process [3735507]\n",
      "INFO:     Waiting for application startup.\n",
      "INFO:     Application startup complete.\n",
      "INFO:     Uvicorn running on http://127.0.0.1:47515 (Press CTRL+C to quit)\n",
      "INFO 06-10 16:51:18 [vllm_service.py:182] Server is healthy at http://127.0.0.1:47515/health\n",
      "INFO 06-10 16:51:18 [vllm_service.py:370] Started 1 server(s) listening on 127.0.0.1:47515\n"
     ]
    },
    {
     "name": "stdout",
     "output_type": "stream",
     "text": [
      "INFO:     127.0.0.1:50738 - \"GET /health HTTP/1.1\" 200 OK\n",
      "INFO:     127.0.0.1:50754 - \"GET /health HTTP/1.1\" 200 OK\n"
     ]
    },
    {
     "data": {
      "application/vnd.jupyter.widget-view+json": {
       "model_id": "0a00c1a838d640ca8f597a2b29b64a86",
       "version_major": 2,
       "version_minor": 0
      },
      "text/plain": [
       "  0%|          | 0/10 [00:00<?, ?it/s]"
      ]
     },
     "metadata": {},
     "output_type": "display_data"
    },
    {
     "name": "stdout",
     "output_type": "stream",
     "text": [
      "INFO 06-10 16:51:20 [chat_utils.py:419] Detected the chat template content format to be 'string'. You can set `--chat-template-content-format` to override this.\n",
      "INFO:     127.0.0.1:50754 - \"POST /chat HTTP/1.1\" 200 OK\n",
      "INFO:     127.0.0.1:50754 - \"POST /generate HTTP/1.1\" 200 OK\n",
      "INFO:     127.0.0.1:50754 - \"POST /chat HTTP/1.1\" 200 OK\n",
      "INFO:     127.0.0.1:50754 - \"POST /generate HTTP/1.1\" 200 OK\n",
      "INFO:     127.0.0.1:50754 - \"POST /chat HTTP/1.1\" 200 OK\n",
      "INFO:     127.0.0.1:50754 - \"POST /generate HTTP/1.1\" 200 OK\n",
      "INFO:     127.0.0.1:50754 - \"POST /chat HTTP/1.1\" 200 OK\n",
      "INFO:     127.0.0.1:50754 - \"POST /generate HTTP/1.1\" 200 OK\n",
      "INFO:     127.0.0.1:50754 - \"POST /chat HTTP/1.1\" 200 OK\n",
      "INFO:     127.0.0.1:50754 - \"POST /generate HTTP/1.1\" 200 OK\n",
      "INFO:     127.0.0.1:50754 - \"POST /chat HTTP/1.1\" 200 OK\n",
      "INFO:     127.0.0.1:50754 - \"POST /generate HTTP/1.1\" 200 OK\n",
      "INFO:     127.0.0.1:50754 - \"POST /chat HTTP/1.1\" 200 OK\n",
      "INFO:     127.0.0.1:50754 - \"POST /generate HTTP/1.1\" 200 OK\n",
      "INFO:     127.0.0.1:50754 - \"POST /chat HTTP/1.1\" 200 OK\n",
      "INFO:     127.0.0.1:50754 - \"POST /generate HTTP/1.1\" 200 OK\n",
      "INFO:     127.0.0.1:50754 - \"POST /chat HTTP/1.1\" 200 OK\n",
      "INFO:     127.0.0.1:50754 - \"POST /generate HTTP/1.1\" 200 OK\n",
      "INFO:     127.0.0.1:50754 - \"POST /chat HTTP/1.1\" 200 OK\n"
     ]
    },
    {
     "name": "stderr",
     "output_type": "stream",
     "text": [
      "INFO 06-10 16:51:46 [vllm_service.py:454] Shutting down 1 server(s)...\n",
      "INFO 06-10 16:51:46 [vllm_service.py:209] Shutting down subprocess...\n"
     ]
    },
    {
     "name": "stdout",
     "output_type": "stream",
     "text": [
      "INFO:     127.0.0.1:50754 - \"POST /generate HTTP/1.1\" 200 OK\n",
      "INFO:     127.0.0.1:55694 - \"POST /shutdown HTTP/1.1\" 200 OK\n"
     ]
    },
    {
     "name": "stderr",
     "output_type": "stream",
     "text": [
      "INFO:     Shutting down\n",
      "INFO:     Waiting for application shutdown.\n",
      "INFO 06-10 16:51:47 [vllm_server.py:59] Resources released successfully.\n",
      "INFO:     Application shutdown complete.\n",
      "INFO:     Finished server process [3735507]\n"
     ]
    }
   ],
   "source": [
    "from gserve.vllm_service import VLLMService\n",
    "from gserve.configs import LLMConfig, ServeConfig\n",
    "from gserve import setup_logging\n",
    "import logging\n",
    "\n",
    "from tqdm.auto import tqdm\n",
    "from vllm import SamplingParams\n",
    "\n",
    "setup_logging(level=logging.INFO)\n",
    "\n",
    "llm_config = LLMConfig(\n",
    "    model_name=\"meta-llama/Llama-3.2-1B-Instruct\",\n",
    "    dtype=\"bfloat16\",\n",
    ")\n",
    "\n",
    "serve_config = ServeConfig(\n",
    "    gpu_ids=[1],\n",
    "    host=\"127.0.0.1\",\n",
    "    port=None,\n",
    "    startup_timeout=10 * 60,\n",
    "    client_timeout=60,\n",
    "    verbose=True,\n",
    ")\n",
    "\n",
    "sampling_params = SamplingParams(\n",
    "    temperature=0.0,\n",
    "    n=1,\n",
    "    max_tokens=100,\n",
    ")\n",
    "\n",
    "service = VLLMService(llm_config, serve_config)\n",
    "\n",
    "service.start()\n",
    "\n",
    "for i in tqdm(range(10)):\n",
    "    chat_answers = service.chat(messeges, sampling_params)\n",
    "    gen_answers = service.generate(texts, sampling_params)\n",
    "\n",
    "service.shutdown()"
   ]
  }
 ],
 "metadata": {
  "kernelspec": {
   "display_name": ".venv",
   "language": "python",
   "name": "python3"
  },
  "language_info": {
   "codemirror_mode": {
    "name": "ipython",
    "version": 3
   },
   "file_extension": ".py",
   "mimetype": "text/x-python",
   "name": "python",
   "nbconvert_exporter": "python",
   "pygments_lexer": "ipython3",
   "version": "3.12.10"
  }
 },
 "nbformat": 4,
 "nbformat_minor": 5
}
